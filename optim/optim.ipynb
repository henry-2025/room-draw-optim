{
 "cells": [
  {
   "cell_type": "code",
   "execution_count": 97,
   "metadata": {},
   "outputs": [],
   "source": [
    "import random\n",
    "import numpy as np\n",
    "import pandas as pd"
   ]
  },
  {
   "cell_type": "markdown",
   "metadata": {},
   "source": [
    "# Room draw optimization models using gurobi python API\n",
    "## 1. Model for multiple preferences with individual parties\n",
    "Consistent with the output in multi_preferences model in `multi_preferences.mod`"
   ]
  },
  {
   "cell_type": "code",
   "execution_count": 110,
   "metadata": {},
   "outputs": [],
   "source": [
    "# number parameters\n",
    "n_rooms = 600\n",
    "n_people = 600\n",
    "n_preferences = 5\n",
    "\n",
    "ROOMS = list(range(1, n_rooms + 1))\n",
    "PEOPLE = list(range(1, n_people + 1))\n",
    "PREFERENCES = list(range(1, n_preferences + 1))\n",
    "\n",
    "# preference and weight parameters\n",
    "weights = {(p, pr): n_preferences - pr  + 1 for p in PEOPLE for pr in PREFERENCES}\n",
    "\n",
    "\n",
    "\n",
    "preferences = np.random.randint(low=1,high=n_rooms,size=(n_people, n_preferences))\n",
    "preferences_lower = preferences\n",
    "preferences_upper = np.minimum(preferences + np.random.randint(0, 5, (n_rooms, n_preferences)), n_rooms*np.ones((n_rooms, n_preferences))).astype(np.int64)\n"
   ]
  },
  {
   "cell_type": "code",
   "execution_count": 113,
   "metadata": {},
   "outputs": [],
   "source": [
    "# save these to text to be interpreted by the models\n",
    "c = ['PEOPLE', 'PREFERENCE', 'preference_lower', 'preference_upper']\n",
    "table = np.zeros((n_people*n_preferences, 4), dtype=np.int32)\n",
    "for i in range(n_people ):\n",
    "    for j in range(n_preferences):\n",
    "        table[i*n_preferences + j][0] = i + 1\n",
    "        table[i*n_preferences + j][1] = j + 1\n",
    "        table[i*n_preferences + j][2] = preferences_lower[i,j]\n",
    "        table[i*n_preferences + j][3] = preferences_upper[i,j]\n",
    "pd.DataFrame(table, columns=c).to_csv('preferences.csv', index=False)"
   ]
  },
  {
   "cell_type": "markdown",
   "metadata": {},
   "source": [
    "## Simulate Greedy Room Draw\n",
    "Assume that all agents act independently, selecting the first available room of highest choice"
   ]
  },
  {
   "cell_type": "code",
   "execution_count": 114,
   "metadata": {},
   "outputs": [],
   "source": [
    "assignment = np.zeros(n_people, dtype=np.int32)\n",
    "weight = np.zeros(n_people, dtype=np.int32)\n",
    "for person in range(n_people):\n",
    "    assigned = False\n",
    "    for pref in range(n_preferences):\n",
    "        for i in range(preferences_lower[person, pref]-1, preferences_upper[person, pref]):\n",
    "            if not assignment[i]:\n",
    "                assigned = True\n",
    "                assignment[i] = person\n",
    "                weight[i] = n_preferences - pref\n",
    "                break\n",
    "        if assigned:\n",
    "            break\n",
    "    if not assigned:\n",
    "        for i in range(n_rooms):\n",
    "            if not assignment[i]:\n",
    "                assignment[i] = person\n",
    "                break"
   ]
  },
  {
   "cell_type": "code",
   "execution_count": 121,
   "metadata": {},
   "outputs": [
    {
     "name": "stdout",
     "output_type": "stream",
     "text": [
      "2556\n"
     ]
    }
   ],
   "source": [
    "greedy_utility = sum(weight)\n",
    "print(greedy_utility)"
   ]
  }
 ],
 "metadata": {
  "kernelspec": {
   "display_name": "Python 3.10.8 ('.venv': venv)",
   "language": "python",
   "name": "python3"
  },
  "language_info": {
   "codemirror_mode": {
    "name": "ipython",
    "version": 3
   },
   "file_extension": ".py",
   "mimetype": "text/x-python",
   "name": "python",
   "nbconvert_exporter": "python",
   "pygments_lexer": "ipython3",
   "version": "3.10.8"
  },
  "orig_nbformat": 4,
  "vscode": {
   "interpreter": {
    "hash": "9a4c94e6dad00596fd8adbe2b5a137357a6eca41499c9130ef8ae5bee8cd4d34"
   }
  }
 },
 "nbformat": 4,
 "nbformat_minor": 2
}
