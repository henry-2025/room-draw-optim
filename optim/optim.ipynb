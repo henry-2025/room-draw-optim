{
 "cells": [
  {
   "attachments": {},
   "cell_type": "markdown",
   "metadata": {},
   "source": [
    "# Data generation\n",
    "## 1. Model for multiple preferences with individual parties\n",
    "Consistent with the output in multi_preferences model in `multi_preferences.mod`"
   ]
  },
  {
   "cell_type": "code",
   "execution_count": null,
   "metadata": {},
   "outputs": [],
   "source": [
    "import numpy as np\n",
    "import pandas as pd\n",
    "import random"
   ]
  },
  {
   "cell_type": "code",
   "execution_count": null,
   "metadata": {},
   "outputs": [],
   "source": [
    "# number parameters\n",
    "n_rooms = 587\n",
    "n_groups = n_rooms\n",
    "preference_points = 100\n",
    "n_preferences = 1\n",
    "max_range = 20\n",
    "\n",
    "ROOMS = list(range(1, n_rooms + 1))\n",
    "PEOPLE = list(range(1, n_groups + 1))\n",
    "PREFERENCES = list(range(1, n_preferences + 1))\n",
    "\n",
    "# preference and weight parameters\n",
    "weights = np.flip(np.sort(np.random.random((n_groups, n_preferences)), axis=1), axis=1)\n",
    "weights = (weights.T / weights.sum(axis=1)*preference_points).T\n",
    "\n",
    "# important: we cannot have overlapping preferences, which makes preference generation sort of tedious\n",
    "preferences_lower = np.zeros((n_groups, n_preferences),dtype=np.int32)\n",
    "preferences_upper = np.zeros((n_groups, n_preferences),dtype=np.int32)\n",
    "for i in range(n_groups):\n",
    "    preference_queue = np.arange(1, n_rooms + 1, 1)\n",
    "    np.random.shuffle(preference_queue)\n",
    "    preferences_lower[i,:] = np.sort(preference_queue[:n_preferences])\n",
    "    for j in range(n_preferences-1):\n",
    "        preferences_upper[i,j] = min(preferences_lower[i,j] + random.randint(0, n_preferences), preferences_lower[i,j+1])\n",
    "    preferences_upper[i,n_preferences-1] = min(preferences_lower[i,n_preferences-1] + random.randint(0, n_preferences), n_rooms)\n",
    "    permute = np.random.permutation(n_preferences)\n",
    "    preferences_lower[i,:] = preferences_lower[i,permute]\n",
    "    preferences_upper[i,:] = preferences_upper[i,permute]\n",
    "\n",
    "# save these to text to be interpreted by the models\n",
    "c = ['PEOPLE', 'PREFERENCES', 'preference_lower', 'preference_upper', 'weights']\n",
    "table = np.zeros((n_groups*n_preferences, 4), dtype=np.int32)\n",
    "for i in range(n_groups ):\n",
    "    for j in range(n_preferences):\n",
    "        table[i*n_preferences + j][0] = i + 1\n",
    "        table[i*n_preferences + j][1] = j + 1\n",
    "        table[i*n_preferences + j][2] = preferences_lower[i,j]\n",
    "        table[i*n_preferences + j][3] = preferences_upper[i,j]\n",
    "\n",
    "table = pd.DataFrame({'PEOPLE':table[:,0], 'PREFERENCES':table[:,1], 'preference_lower':table[:,2], 'preference_upper':table[:,3], 'weights':weights.flatten()}).set_index(['PEOPLE', 'PREFERENCES'])"
   ]
  },
  {
   "attachments": {},
   "cell_type": "markdown",
   "metadata": {},
   "source": [
    "# Populate database\n",
    "We run this to populate the database with static HMC dorm info. Note that we'll commit this and maintain it as immutable data in the repo--no need to run this again."
   ]
  },
  {
   "cell_type": "code",
   "execution_count": null,
   "metadata": {},
   "outputs": [],
   "source": [
    "import sqlite3 as sql\n",
    "import csv, os, random"
   ]
  },
  {
   "cell_type": "code",
   "execution_count": null,
   "metadata": {},
   "outputs": [],
   "source": [
    "regen_db = False\n",
    "\n",
    "# Populate rooms table\n",
    "db_path = 'dorms.db'\n",
    "n_students = 908\n",
    "if os.path.exists(db_path) and regen_db or not os.path.exists(db_path):\n",
    "    if os.path.exists(db_path):\n",
    "        os.remove(db_path)\n",
    "    db = sql.connect(db_path)\n",
    "    db.executescript(open('../res/up.sql', 'r').read())\n",
    "\n",
    "    dorms = csv.DictReader(open('../res/dorms.csv','r'),\n",
    "    ['local_id', 'dorm_id', 'global_id', 'capacity', 'dsa', 'suite'])\n",
    "    dorms.__next__()\n",
    "\n",
    "    for e in dorms:\n",
    "        local_id = e['local_id']\n",
    "        dorm_id = int(e['dorm_id'])\n",
    "        global_id = int(e['global_id'])\n",
    "        capacity = int(e['capacity'])\n",
    "        if e['dsa'] == 'TRUE':\n",
    "            dsa  = 1\n",
    "        else:\n",
    "            dsa = 0\n",
    "        suite = int(e['suite'])\n",
    "        db.execute(f'INSERT INTO rooms(local_id, dorm_id, global_id, capacity, dsa, suite) VALUES(\\'{local_id}\\', {dorm_id}, {global_id}, {capacity}, {dsa}, {suite})')\n",
    "\n",
    "    for i in range(n_students):\n",
    "        id = i + 1\n",
    "        name = f'Student {id}'\n",
    "        year = 4 - int(i / n_students*4)\n",
    "        db.execute(f'INSERT INTO students(id, name, year) VALUES({id}, \\'{name}\\', {year})')\n",
    "    db.commit()\n",
    "else:\n",
    "    db = sql.connect(db_path)\n",
    "\n",
    "# make group assignments\n",
    "size_counts = dict(db.execute('SELECT capacity, COUNT(*) FROM rooms WHERE dsa = 0 GROUP BY capacity;').fetchall())\n",
    "student_ids = [i[0] for i in db.execute('SELECT id FROM students;').fetchall()]\n",
    "random.shuffle(student_ids)\n",
    "\n",
    "group = 1\n",
    "id = 0\n",
    "group_rows = []\n",
    "for s,c in size_counts.items():\n",
    "    for _ in range(c):\n",
    "        ids = student_ids[id:id+s]\n",
    "        group_rows += [(group, a) for a in ids]\n",
    "        group +=1\n",
    "        id += s\n",
    "db.executemany('UPDATE students SET group_id = ? WHERE id = ?;', group_rows)\n",
    "db.commit()\n",
    "\n",
    "# populate preferences\n",
    "db.execute('DELETE FROM preferences WHERE preference_id > 0;')\n",
    "db.commit()\n",
    "db.executemany('INSERT INTO preferences(group_id, preference_id, preference_lower, preference_upper, weight) VALUES(?, ?, ?, ?, ?)', table.reset_index().values.tolist())\n",
    "db.commit()\n",
    "db.close()"
   ]
  },
  {
   "cell_type": "markdown",
   "metadata": {},
   "source": [
    "## Simulate Greedy Room Draw\n",
    "Assume that all agents act independently, selecting the first available room of highest choice"
   ]
  },
  {
   "cell_type": "code",
   "execution_count": null,
   "metadata": {},
   "outputs": [],
   "source": [
    "assignment = np.zeros(n_groups, dtype=np.int32)\n",
    "weight = np.zeros(n_groups, dtype=np.int32)\n",
    "greedy_utility = 0\n",
    "for person in range(n_groups):\n",
    "    assigned = False\n",
    "    for pref in range(n_preferences):\n",
    "        for i in range(preferences_lower[person, pref]-1, preferences_upper[person, pref]):\n",
    "            if not assignment[i]:\n",
    "                assigned = True\n",
    "                assignment[i] = person\n",
    "                weight[i] = n_preferences - pref\n",
    "                greedy_utility += table.loc[person + 1, pref + 1].weights\n",
    "                break\n",
    "        if assigned:\n",
    "            break\n",
    "    if not assigned:\n",
    "        for i in range(n_rooms):\n",
    "            if not assignment[i]:\n",
    "                assignment[i] = person\n",
    "                break\n",
    "greedy_assignment = pd.DataFrame(assignment, columns=['room number'])\n",
    "greedy_satisfied = pd.DataFrame(weight, columns=['satisfied'])\n",
    "greedy_assignment['groups'] = PEOPLE\n",
    "greedy_satisfied['groups'] = PEOPLE\n",
    "greedy_assignment.set_index('groups', inplace=True)\n",
    "greedy_satisfied.set_index('groups', inplace=True)\n",
    "\n",
    "# transform to get satisfied preference numbers\n",
    "greedy_satisfied['satisfied'] = greedy_satisfied['satisfied'].apply(lambda x: -x + n_preferences + 1 if x else 0)"
   ]
  },
  {
   "attachments": {},
   "cell_type": "markdown",
   "metadata": {},
   "source": [
    "# AMPL Python API Tests\n",
    "### Pull from database"
   ]
  },
  {
   "cell_type": "code",
   "execution_count": null,
   "metadata": {},
   "outputs": [],
   "source": [
    "from amplpy import AMPL, Environment\n",
    "import sqlite3 as sql"
   ]
  },
  {
   "cell_type": "code",
   "execution_count": null,
   "metadata": {},
   "outputs": [],
   "source": [
    "\n",
    "db = sql.connect(db_path)\n",
    "n_groups = n_rooms = db.execute('SELECT COUNT(global_id) FROM rooms;').fetchone()[0]\n",
    "n_preferences = db.execute('SELECT COUNT(DISTINCT preference_id) FROM preferences;').fetchone()[0]\n",
    "table = pd.DataFrame(data=db.execute('SELECT * FROM preferences;').fetchall(), columns=['PREFERENCES', 'PEOPLE', 'preference_lower', 'preference_upper', 'weights']).set_index(['PEOPLE', 'PREFERENCES'])\n",
    "db.close()"
   ]
  },
  {
   "attachments": {},
   "cell_type": "markdown",
   "metadata": {},
   "source": [
    "### Load model and run optimization"
   ]
  },
  {
   "cell_type": "code",
   "execution_count": null,
   "metadata": {},
   "outputs": [],
   "source": [
    "# init ampl\n",
    "ampl_dir = '/usr/bin'\n",
    "ampl = AMPL(Environment(ampl_dir))\n",
    "model = 'range_preferences.mod'"
   ]
  },
  {
   "cell_type": "code",
   "execution_count": null,
   "metadata": {},
   "outputs": [],
   "source": [
    "# read in model\n",
    "ampl.eval('option solver gurobi;')\n",
    "ampl.eval(\"option gurobi_options 'outlev=1';\")\n",
    "ampl.read(filename=model)"
   ]
  },
  {
   "cell_type": "code",
   "execution_count": null,
   "metadata": {},
   "outputs": [],
   "source": [
    "# set data\n",
    "ampl.get_parameter(\"n_people\").set(n_groups)\n",
    "ampl.get_parameter(\"n_rooms\").set(n_rooms)\n",
    "ampl.get_parameter(\"n_preferences\").set(n_preferences)\n",
    "ampl.set_data(data=table, set_name='LINKS')"
   ]
  },
  {
   "cell_type": "code",
   "execution_count": null,
   "metadata": {},
   "outputs": [],
   "source": [
    "greedy_utility"
   ]
  },
  {
   "cell_type": "code",
   "execution_count": null,
   "metadata": {},
   "outputs": [],
   "source": [
    "ampl.solve()"
   ]
  },
  {
   "cell_type": "code",
   "execution_count": null,
   "metadata": {},
   "outputs": [],
   "source": [
    "optim_assignments = ampl.get_variable('room_number').get_values().to_pandas()\n",
    "# clean up the dataframe\n",
    "optim_assignments = optim_assignments.rename(columns={'room_number.val': 'room number'}).set_axis(np.arange(1, n_rooms + 1, 1, dtype=int)).rename_axis('Groups').astype(int)\n",
    "optim_utility = int(ampl.get_objective('Objective').value())"
   ]
  },
  {
   "cell_type": "code",
   "execution_count": null,
   "metadata": {},
   "outputs": [],
   "source": [
    "# process output\n",
    "optim_satisfied = ampl.get_variable('satisfied').get_values().to_pandas()\n",
    "optim_satisfied['group'] = [int(a[0]) for a in optim_satisfied.index]\n",
    "optim_satisfied['preference'] = [int(a[1]) for a in optim_satisfied.index]\n",
    "optim_satisfied.set_index(['group', 'preference'],inplace=True)\n",
    "optim_satisfied.rename(columns={'satisfied.val':'satisfied'}, inplace=True)\n",
    "optim_satisfied = optim_satisfied.astype(bool)\n",
    "\n",
    "def arg(x):\n",
    "    for j in x.index:\n",
    "        if x.loc[j]['satisfied']:\n",
    "            return j[1]\n",
    "    return 0\n",
    "\n",
    "\n",
    "        \n",
    "optim_satisfied = optim_satisfied.groupby('group').apply(arg).to_frame(name='satisfied')"
   ]
  },
  {
   "cell_type": "code",
   "execution_count": null,
   "metadata": {},
   "outputs": [],
   "source": [
    "# write assignments to db\n",
    "db = sql.connect(db_path)\n",
    "db.executemany('UPDATE students SET room = ? WHERE group_id = ?', np.flip(optim_assignments.reset_index().values, axis=1).tolist())\n",
    "db.commit()\n",
    "db.close()\n"
   ]
  },
  {
   "cell_type": "markdown",
   "metadata": {},
   "source": [
    "# Comparison of Greedy and Optimized Assignments"
   ]
  },
  {
   "cell_type": "code",
   "execution_count": null,
   "metadata": {},
   "outputs": [],
   "source": [
    "import matplotlib.pyplot as plt"
   ]
  },
  {
   "cell_type": "code",
   "execution_count": null,
   "metadata": {},
   "outputs": [],
   "source": [
    "labels = [str(a) for a in range(1, n_preferences + 1)] + ['Not\\nsatisfied']\n",
    "x = np.arange(0, n_preferences + 1)\n",
    "t = dict(optim_satisfied.satisfied.value_counts())\n",
    "optim_y = []\n",
    "index = list(range(1, n_preferences + 1))\n",
    "index.append(0)\n",
    "for i in index:\n",
    "    if i not in t.keys():\n",
    "        optim_y.append(0)\n",
    "    else:\n",
    "        optim_y.append(t[i])\n",
    "\n",
    "greedy_y = [greedy_satisfied.satisfied.value_counts()[i] for i in index]\n",
    "width = 0.3\n",
    "\n",
    "plt.bar(x, optim_y, width, label='Optimized')\n",
    "plt.bar(x + width, greedy_y, width, label='Greedy')\n",
    "plt.title('Preference Satisfaction Distribution')\n",
    "plt.ylabel('Counts')\n",
    "plt.xticks(x + width / 2, labels)\n",
    "plt.legend()\n",
    "plt.show()\n",
    "\n",
    "print(f'''##### METRICS ######\n",
    "Total utility greedy: {greedy_utility}\n",
    "Total utility optimized: {optim_utility}\n",
    "\n",
    "Percentage improvement in optimized model: {100*(optim_utility/greedy_utility - 1):.2f}%\n",
    "Percentage improvement any preference satisfaction: {100*(sum(optim_y[:-1])/sum(greedy_y[:-1]) - 1):.2f}%\n",
    "\n",
    "Percentage improvement pref 1 satisfaction: {100*(optim_y[0]/greedy_y[0] - 1):.2f}%\n",
    "Percentage improvement pref 2 satisfaction: {100*(optim_y[1]/greedy_y[1] - 1):.2f}%\n",
    "\n",
    "\n",
    "*Note: preference rank satisfactions are codependent. This means that a negative improvement for one preference doesn't imply an overall worse preference satisfaction performance''')"
   ]
  },
  {
   "cell_type": "code",
   "execution_count": null,
   "metadata": {},
   "outputs": [],
   "source": [
    "# populate stats DB\n",
    "db = sql.connect(db_path)\n",
    "db.execute(f'''INSERT INTO stats(\n",
    "    run_method,\n",
    "    util_improvement,\n",
    "    sat_improvement_prop,\n",
    "    pref_one_improvement,\n",
    "    pref_two_improvement,\n",
    "    pref_three_improvement,\n",
    "    pref_four_improvement,\n",
    "    pref_five_improvement,\n",
    "    not_satisfied_change,\n",
    "    pref_one_improvement_prop,\n",
    "    pref_two_improvement_prop,\n",
    "    pref_three_improvement_prop,\n",
    "    pref_four_improvement_prop,\n",
    "    pref_five_improvement_prop,\n",
    "    not_satisfied_change_prop)\n",
    "    VALUES(\n",
    "        'range_preferences.mod',\n",
    "        {optim_utility/greedy_utility},\n",
    "        {sum(optim_y[:-1])/sum(greedy_y[:-1]) - 1},\n",
    "        {optim_y[0] - greedy_y[0]},\n",
    "        {optim_y[1] - greedy_y[1]},\n",
    "        {optim_y[2] - greedy_y[2]},\n",
    "        {optim_y[3] - greedy_y[3]},\n",
    "        {optim_y[4] - greedy_y[4]},\n",
    "        {optim_y[5] - greedy_y[5]},\n",
    "        {optim_y[0]/greedy_y[0] - 1},\n",
    "        {optim_y[1]/greedy_y[1] - 1},\n",
    "        {optim_y[2]/greedy_y[2] - 1},\n",
    "        {optim_y[3]/greedy_y[3] - 1},\n",
    "        {optim_y[4]/greedy_y[4] - 1},\n",
    "        {optim_y[5]/greedy_y[5] - 1})''')\n",
    "db.commit()\n",
    "db.close()"
   ]
  }
 ],
 "metadata": {
  "kernelspec": {
   "display_name": "Python 3.10.8 ('.venv': venv)",
   "language": "python",
   "name": "python3"
  },
  "language_info": {
   "codemirror_mode": {
    "name": "ipython",
    "version": 3
   },
   "file_extension": ".py",
   "mimetype": "text/x-python",
   "name": "python",
   "nbconvert_exporter": "python",
   "pygments_lexer": "ipython3",
   "version": "3.10.8 (main, Nov  1 2022, 14:18:21) [GCC 12.2.0]"
  },
  "orig_nbformat": 4,
  "vscode": {
   "interpreter": {
    "hash": "9a4c94e6dad00596fd8adbe2b5a137357a6eca41499c9130ef8ae5bee8cd4d34"
   }
  }
 },
 "nbformat": 4,
 "nbformat_minor": 2
}
