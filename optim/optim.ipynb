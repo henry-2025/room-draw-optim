{
 "cells": [
  {
   "cell_type": "code",
   "execution_count": 19,
   "metadata": {},
   "outputs": [],
   "source": [
    "import random\n",
    "import numpy as np\n",
    "import gurobipy as gp"
   ]
  },
  {
   "cell_type": "markdown",
   "metadata": {},
   "source": [
    "# Room draw optimization models using gurobi python API\n",
    "## 1. Model for multiple preferences with individual parties\n",
    "Consistent with the output in multi_preferences model in `multi_preferences.mod`"
   ]
  },
  {
   "cell_type": "code",
   "execution_count": 105,
   "metadata": {},
   "outputs": [],
   "source": [
    "# number parameters\n",
    "n_rooms = 20\n",
    "n_people = 20\n",
    "n_preferences = 5\n",
    "\n",
    "ROOMS = list(range(1, n_rooms + 1))\n",
    "PEOPLE = list(range(1, n_people + 1))\n",
    "PREFERENCES = list(range(1, n_preferences + 1))\n",
    "\n",
    "# preference and weight parameters\n",
    "weights = {(p, pr): n_preferences - pr  + 1 for p in PEOPLE for pr in PREFERENCES}\n",
    "\n",
    "\n",
    "\n",
    "# preferences = np.random.randint(low=1,high=n_rooms,size=(n_people, n_preferences))\n",
    "preferences = np.array([\n",
    "       [ 5,  7, 19, 13,  9],\n",
    "       [16,  6,  3,  6, 18],\n",
    "       [14,  2, 15,  7, 14],\n",
    "       [15,  2,  4,  2, 16],\n",
    "       [18,  5, 18, 13,  5],\n",
    "       [ 3,  1,  5, 15,  3],\n",
    "       [ 2,  5,  8,  6,  9],\n",
    "       [13,  9, 12,  1,  5],\n",
    "       [19, 17,  6, 13, 10],\n",
    "       [ 5, 17, 19,  5, 14],\n",
    "       [ 5, 17, 12,  1, 15],\n",
    "       [16, 18,  4,  4,  4],\n",
    "       [ 9,  8, 13,  4, 15],\n",
    "       [ 6,  8,  3, 11, 14],\n",
    "       [12, 18, 19, 16, 14],\n",
    "       [17,  4, 12,  6, 13],\n",
    "       [16, 17, 13,  3, 14],\n",
    "       [ 3, 12, 17,  4,  1],\n",
    "       [ 4, 12,  3, 11, 11],\n",
    "       [14, 14, 16, 12, 18]])\n"
   ]
  },
  {
   "cell_type": "code",
   "execution_count": 106,
   "metadata": {},
   "outputs": [],
   "source": [
    "m = gp.Model(\"Multi-Preference Model\")\n",
    "satisfied = m.addVars(PEOPLE, PREFERENCES, vtype=gp.GRB.BINARY)\n",
    "assignment = m.addVars(PEOPLE, ROOMS, vtype=gp.GRB.BINARY)\n",
    "room_number = m.addVars(PEOPLE, lb=1, vtype=gp.GRB.INTEGER)\n",
    "\n",
    "m.addConstrs((satisfied[p,pr] == assignment[p,preferences[p-1,pr-1]] for p in PEOPLE for pr in PREFERENCES),name='Preference Satisfied')\n",
    "m.addConstrs((assignment.sum('*', r) == 1 for r in ROOMS), name='No overlaps')\n",
    "\n",
    "rooms_dict = {(p, r): r for p in PEOPLE for r in ROOMS }\n",
    "m.addConstrs((assignment.prod(rooms_dict, p, '*') == room_number[p] for p in PEOPLE)\n",
    ", name='Assignment number')\n",
    "\n",
    "m.setObjective(satisfied.prod(weights, '*', '*'), gp.GRB.MAXIMIZE)\n"
   ]
  },
  {
   "cell_type": "code",
   "execution_count": 107,
   "metadata": {},
   "outputs": [
    {
     "name": "stdout",
     "output_type": "stream",
     "text": [
      "Gurobi Optimizer version 10.0.0 build v10.0.0rc2 (linux64)\n",
      "\n",
      "CPU model: Intel(R) Core(TM) i7-8550U CPU @ 1.80GHz, instruction set [SSE2|AVX|AVX2]\n",
      "Thread count: 4 physical cores, 8 logical processors, using up to 8 threads\n",
      "\n",
      "Optimize a model with 140 rows, 520 columns and 1020 nonzeros\n",
      "Model fingerprint: 0x4c7a5c8a\n",
      "Variable types: 0 continuous, 520 integer (500 binary)\n",
      "Coefficient statistics:\n",
      "  Matrix range     [1e+00, 2e+01]\n",
      "  Objective range  [1e+00, 5e+00]\n",
      "  Bounds range     [1e+00, 1e+00]\n",
      "  RHS range        [1e+00, 1e+00]\n",
      "Presolve removed 100 rows and 120 columns\n",
      "Presolve time: 0.00s\n",
      "Presolved: 40 rows, 400 columns, 800 nonzeros\n",
      "Variable types: 0 continuous, 400 integer (400 binary)\n",
      "Found heuristic solution: objective -0.0000000\n",
      "\n",
      "Root relaxation: objective 9.600000e+01, 31 iterations, 0.00 seconds (0.00 work units)\n",
      "\n",
      "    Nodes    |    Current Node    |     Objective Bounds      |     Work\n",
      " Expl Unexpl |  Obj  Depth IntInf | Incumbent    BestBd   Gap | It/Node Time\n",
      "\n",
      "*    0     0               0      96.0000000   96.00000  0.00%     -    0s\n",
      "\n",
      "Explored 1 nodes (31 simplex iterations) in 0.03 seconds (0.00 work units)\n",
      "Thread count was 8 (of 8 available processors)\n",
      "\n",
      "Solution count 2: 96 -0 \n",
      "\n",
      "Optimal solution found (tolerance 1.00e-04)\n",
      "Best objective 9.600000000000e+01, best bound 9.600000000000e+01, gap 0.0000%\n"
     ]
    }
   ],
   "source": [
    "m.optimize()"
   ]
  },
  {
   "cell_type": "markdown",
   "metadata": {},
   "source": [
    "## 2. Model for range preferences\n",
    "In this model, we try to implement preferences for not a particular room but a general "
   ]
  },
  {
   "cell_type": "code",
   "execution_count": null,
   "metadata": {},
   "outputs": [],
   "source": []
  },
  {
   "cell_type": "markdown",
   "metadata": {},
   "source": [
    "## 3. Model for macro groups\n",
    "In this model, consider preferences for dorm suites"
   ]
  },
  {
   "cell_type": "markdown",
   "metadata": {},
   "source": [
    "## 4. Model for realistic draw order\n",
    "In thin model, consider the ordering and preference of selection"
   ]
  }
 ],
 "metadata": {
  "kernelspec": {
   "display_name": "Python 3.10.8 ('.venv': venv)",
   "language": "python",
   "name": "python3"
  },
  "language_info": {
   "codemirror_mode": {
    "name": "ipython",
    "version": 3
   },
   "file_extension": ".py",
   "mimetype": "text/x-python",
   "name": "python",
   "nbconvert_exporter": "python",
   "pygments_lexer": "ipython3",
   "version": "3.10.8"
  },
  "orig_nbformat": 4,
  "vscode": {
   "interpreter": {
    "hash": "9a4c94e6dad00596fd8adbe2b5a137357a6eca41499c9130ef8ae5bee8cd4d34"
   }
  }
 },
 "nbformat": 4,
 "nbformat_minor": 2
}
