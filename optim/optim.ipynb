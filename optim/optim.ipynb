{
 "cells": [
  {
   "cell_type": "code",
   "execution_count": 71,
   "metadata": {},
   "outputs": [],
   "source": [
    "import numpy as np\n",
    "import pandas as pd"
   ]
  },
  {
   "cell_type": "markdown",
   "metadata": {},
   "source": [
    "# Room draw optimization data generation\n",
    "## 1. Model for multiple preferences with individual parties\n",
    "Consistent with the output in multi_preferences model in `multi_preferences.mod`"
   ]
  },
  {
   "cell_type": "code",
   "execution_count": 72,
   "metadata": {},
   "outputs": [],
   "source": [
    "# number parameters\n",
    "n_rooms = 200\n",
    "n_people = 200\n",
    "n_preferences = 5\n",
    "\n",
    "ROOMS = list(range(1, n_rooms + 1))\n",
    "PEOPLE = list(range(1, n_people + 1))\n",
    "PREFERENCES = list(range(1, n_preferences + 1))\n",
    "\n",
    "# preference and weight parameters\n",
    "weights = {(p, pr): n_preferences - pr  + 1 for p in PEOPLE for pr in PREFERENCES}\n",
    "\n",
    "\n",
    "\n",
    "preferences = np.random.randint(low=1,high=n_rooms,size=(n_people, n_preferences))\n",
    "preferences_lower = preferences\n",
    "preferences_upper = np.minimum(preferences + np.random.randint(0, 5, (n_rooms, n_preferences)), n_rooms*np.ones((n_rooms, n_preferences))).astype(np.int64)\n"
   ]
  },
  {
   "cell_type": "code",
   "execution_count": 73,
   "metadata": {},
   "outputs": [],
   "source": [
    "# save these to text to be interpreted by the models\n",
    "c = ['PEOPLE', 'PREFERENCES', 'preference_lower', 'preference_upper', 'weights']\n",
    "table = np.zeros((n_people*n_preferences, 5), dtype=np.int32)\n",
    "for i in range(n_people ):\n",
    "    for j in range(n_preferences):\n",
    "        table[i*n_preferences + j][0] = i + 1\n",
    "        table[i*n_preferences + j][1] = j + 1\n",
    "        table[i*n_preferences + j][2] = preferences_lower[i,j]\n",
    "        table[i*n_preferences + j][3] = preferences_upper[i,j]\n",
    "        table[i*n_preferences + j][4] = n_preferences - j\n",
    "table = pd.DataFrame(table, columns=c).set_index(['PEOPLE', 'PREFERENCES'])\n",
    "table.to_csv('preferences.csv', index=False)"
   ]
  },
  {
   "cell_type": "markdown",
   "metadata": {},
   "source": [
    "## Simulate Greedy Room Draw\n",
    "Assume that all agents act independently, selecting the first available room of highest choice"
   ]
  },
  {
   "cell_type": "code",
   "execution_count": 91,
   "metadata": {},
   "outputs": [],
   "source": [
    "assignment = np.zeros(n_people, dtype=np.int32)\n",
    "weight = np.zeros(n_people, dtype=np.int32)\n",
    "for person in range(n_people):\n",
    "    assigned = False\n",
    "    for pref in range(n_preferences):\n",
    "        for i in range(preferences_lower[person, pref]-1, preferences_upper[person, pref]):\n",
    "            if not assignment[i]:\n",
    "                assigned = True\n",
    "                assignment[i] = person\n",
    "                weight[i] = n_preferences - pref\n",
    "                break\n",
    "        if assigned:\n",
    "            break\n",
    "    if not assigned:\n",
    "        for i in range(n_rooms):\n",
    "            if not assignment[i]:\n",
    "                assignment[i] = person\n",
    "                break\n",
    "greedy_assignment = pd.DataFrame(assignment, columns=['room number'])\n",
    "greedy_satisfied = pd.DataFrame(weight, columns=['satisfied'])\n",
    "greedy_assignment['groups'] = PEOPLE\n",
    "greedy_satisfied['groups'] = PEOPLE\n",
    "greedy_assignment.set_index('groups', inplace=True)\n",
    "greedy_satisfied.set_index('groups', inplace=True)\n",
    "\n",
    "# transform to get satisfied preference numbers\n",
    "greedy_satisfied['satisfied'] = greedy_satisfied['satisfied'].apply(lambda x: -x + 6 if x else 0)\n",
    "greedy_utility = sum(weight)"
   ]
  },
  {
   "cell_type": "markdown",
   "metadata": {},
   "source": [
    "# AMPL Python API Tests"
   ]
  },
  {
   "cell_type": "code",
   "execution_count": 75,
   "metadata": {},
   "outputs": [],
   "source": [
    "from amplpy import AMPL, Environment"
   ]
  },
  {
   "cell_type": "code",
   "execution_count": 76,
   "metadata": {},
   "outputs": [],
   "source": [
    "# init ampl\n",
    "ampl = AMPL(Environment('/usr/bin'))\n",
    "model = 'range_preferences.mod'"
   ]
  },
  {
   "cell_type": "code",
   "execution_count": 77,
   "metadata": {},
   "outputs": [],
   "source": [
    "# read in model\n",
    "ampl.eval('option solver gurobi;')\n",
    "ampl.read(filename=model)"
   ]
  },
  {
   "cell_type": "code",
   "execution_count": 78,
   "metadata": {},
   "outputs": [],
   "source": [
    "# set data\n",
    "ampl.get_parameter(\"n_people\").set(n_people)\n",
    "ampl.get_parameter(\"n_rooms\").set(n_rooms)\n",
    "ampl.get_parameter(\"n_preferences\").set(n_preferences)\n",
    "ampl.set_data(data=table, set_name='LINKS')"
   ]
  },
  {
   "cell_type": "code",
   "execution_count": 79,
   "metadata": {},
   "outputs": [
    {
     "name": "stdout",
     "output_type": "stream",
     "text": [
      "Gurobi 9.5.1: optimal solution; objective 1025\n",
      "3532 simplex iterations\n",
      "1 branch-and-cut nodes\n"
     ]
    }
   ],
   "source": [
    "ampl.solve()"
   ]
  },
  {
   "cell_type": "code",
   "execution_count": 89,
   "metadata": {},
   "outputs": [],
   "source": [
    "optim_assignments = ampl.get_variable('room_number').get_values().to_pandas()\n",
    "# clean up the dataframe\n",
    "optim_assignments = optim_assignments.rename(columns={'room_number.val': 'room number'}).set_axis(np.arange(1, 201, 1, dtype=int)).rename_axis('Groups').astype(int)\n",
    "optim_utility = int(ampl.get_objective('Objective').value())\n"
   ]
  },
  {
   "cell_type": "code",
   "execution_count": 81,
   "metadata": {},
   "outputs": [],
   "source": [
    "# process output\n",
    "optim_satisfied = ampl.get_variable('satisfied').get_values().to_pandas()\n",
    "optim_satisfied['group'] = [int(a[0]) for a in optim_satisfied.index]\n",
    "optim_satisfied['preference'] = [int(a[1]) for a in optim_satisfied.index]\n",
    "optim_satisfied.set_index(['group', 'preference'],inplace=True)\n",
    "optim_satisfied.rename(columns={'satisfied.val':'satisfied'}, inplace=True)\n",
    "optim_satisfied = optim_satisfied.astype(bool)\n",
    "\n",
    "def arg(x):\n",
    "    for j in x.index:\n",
    "        if x.loc[j]['satisfied']:\n",
    "            return j[1]\n",
    "    return 0\n",
    "\n",
    "\n",
    "        \n",
    "optim_satisfied = optim_satisfied.groupby('group').apply(arg).to_frame(name='satisfied')"
   ]
  },
  {
   "cell_type": "markdown",
   "metadata": {},
   "source": [
    "# Comparison of Greedy and Optimized Assignments"
   ]
  },
  {
   "cell_type": "code",
   "execution_count": 82,
   "metadata": {},
   "outputs": [],
   "source": [
    "import matplotlib.pyplot as plt"
   ]
  },
  {
   "cell_type": "code",
   "execution_count": 83,
   "metadata": {},
   "outputs": [
    {
     "data": {
      "image/png": "[encoded data removed]",
      "text/plain": [
       "<Figure size 640x480 with 1 Axes>"
      ]
     },
     "metadata": {},
     "output_type": "display_data"
    }
   ],
   "source": [
    "plt.bar(x=optim_satisfied.satisfied.value_counts().index, height=optim_satisfied.satisfied.value_counts().values, tick_label=[f'Preference {a}' for a in optim_satisfied.satisfied.value_counts().index], width=0.3)\n",
    "plt.title('Optimal Model Preferences')\n",
    "plt.ylabel('Counts')\n",
    "plt.show()"
   ]
  },
  {
   "cell_type": "code",
   "execution_count": 84,
   "metadata": {},
   "outputs": [
    {
     "data": {
      "image/png": "[encoded data removed]",
      "text/plain": [
       "<Figure size 640x480 with 1 Axes>"
      ]
     },
     "metadata": {},
     "output_type": "display_data"
    }
   ],
   "source": [
    "labels = []\n",
    "for p in greedy_satisfied.satisfied.value_counts().index:\n",
    "    if not p:\n",
    "        labels += ['None\\nsatisfied']\n",
    "    else:\n",
    "        labels += [f'pref {p}']\n",
    "\n",
    "plt.bar(x=greedy_satisfied.satisfied.value_counts().index, height=greedy_satisfied.satisfied.value_counts().values, tick_label=labels)\n",
    "plt.title('Optimal Model Preferences')\n",
    "plt.ylabel('Counts')\n",
    "plt.show()"
   ]
  },
  {
   "cell_type": "code",
   "execution_count": 110,
   "metadata": {},
   "outputs": [
    {
     "name": "stdout",
     "output_type": "stream",
     "text": [
      "##### METRICS ######\n",
      "Total utility greedy: 858\n",
      "Total utility optimized: 1025\n",
      "\n",
      "Percentage improvement in optimized model: 19.46%\n",
      "Percentage improvement any preference satisfaction: 6.38%\n",
      "\n",
      "Percentage improvement pref 1 satisfaction: 12.59%\n",
      "Percentage improvement pref 2 satisfaction: 32.00%\n",
      "Percentage improvement pref 3 satisfaction: -14.29%*\n",
      "\n",
      "\n",
      "*Note: preference rank satisfactions are codependent. This means that a negative improvement for one preference doesn't imply an overall worse preference satisfaction performance\n"
     ]
    }
   ],
   "source": [
    "print(f'''##### METRICS ######\n",
    "Total utility greedy: {greedy_utility}\n",
    "Total utility optimized: {optim_utility}\n",
    "\n",
    "Percentage improvement in optimized model: {100*(optim_utility/greedy_utility - 1):.2f}%\n",
    "Percentage improvement any preference satisfaction: {100*(sum((optim_satisfied > 0).satisfied)/sum((greedy_satisfied > 0).satisfied) - 1):.2f}%\n",
    "\n",
    "Percentage improvement pref 1 satisfaction: {100*(sum((optim_satisfied == 1).satisfied)/sum((greedy_satisfied == 1).satisfied) - 1):.2f}%\n",
    "Percentage improvement pref 2 satisfaction: {100*(sum((optim_satisfied == 2).satisfied)/sum((greedy_satisfied == 2).satisfied) - 1):.2f}%\n",
    "Percentage improvement pref 3 satisfaction: {100*(sum((optim_satisfied == 3).satisfied)/sum((greedy_satisfied == 3).satisfied) - 1):.2f}%*\n",
    "\n",
    "\n",
    "*Note: preference rank satisfactions are codependent. This means that a negative improvement for one preference doesn't imply an overall worse preference satisfaction performance''')"
   ]
  }
 ],
 "metadata": {
  "kernelspec": {
   "display_name": "Python 3.10.8 ('.venv': venv)",
   "language": "python",
   "name": "python3"
  },
  "language_info": {
   "codemirror_mode": {
    "name": "ipython",
    "version": 3
   },
   "file_extension": ".py",
   "mimetype": "text/x-python",
   "name": "python",
   "nbconvert_exporter": "python",
   "pygments_lexer": "ipython3",
   "version": "3.10.8"
  },
  "orig_nbformat": 4,
  "vscode": {
   "interpreter": {
    "hash": "9a4c94e6dad00596fd8adbe2b5a137357a6eca41499c9130ef8ae5bee8cd4d34"
   }
  }
 },
 "nbformat": 4,
 "nbformat_minor": 2
}
