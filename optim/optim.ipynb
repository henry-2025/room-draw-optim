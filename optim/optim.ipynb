{
 "cells": [
  {
   "attachments": {},
   "cell_type": "markdown",
   "metadata": {},
   "source": [
    "# Data generation\n",
    "## 1. Model for multiple preferences with individual parties\n",
    "Consistent with the output in multi_preferences model in `multi_preferences.mod`"
   ]
  },
  {
   "cell_type": "code",
   "execution_count": 123,
   "metadata": {},
   "outputs": [],
   "source": [
    "import numpy as np\n",
    "import pandas as pd"
   ]
  },
  {
   "cell_type": "code",
   "execution_count": 124,
   "metadata": {},
   "outputs": [],
   "source": [
    "# number parameters\n",
    "n_rooms = 587\n",
    "n_groups = n_rooms\n",
    "preference_points = 100\n",
    "n_preferences = 5\n",
    "max_range = 20\n",
    "\n",
    "ROOMS = list(range(1, n_rooms + 1))\n",
    "PEOPLE = list(range(1, n_groups + 1))\n",
    "PREFERENCES = list(range(1, n_preferences + 1))\n",
    "\n",
    "# preference and weight parameters\n",
    "weights = np.flip(np.sort(np.random.random((n_groups, n_preferences)), axis=1), axis=1)\n",
    "weights = (weights.T / weights.sum(axis=1)*100).T\n",
    "\n",
    "preferences = np.random.randint(low=1,high=n_rooms,size=(n_groups, n_preferences))\n",
    "preferences_lower = preferences\n",
    "preferences_upper = np.minimum(preferences + np.random.randint(0, 2, (n_rooms, n_preferences)), n_rooms*np.ones((n_rooms, n_preferences))).astype(np.int64)\n",
    "\n",
    "# save these to text to be interpreted by the models\n",
    "c = ['PEOPLE', 'PREFERENCES', 'preference_lower', 'preference_upper', 'weights']\n",
    "table = np.zeros((n_groups*n_preferences, 4), dtype=np.int32)\n",
    "for i in range(n_groups ):\n",
    "    for j in range(n_preferences):\n",
    "        table[i*n_preferences + j][0] = i + 1\n",
    "        table[i*n_preferences + j][1] = j + 1\n",
    "        table[i*n_preferences + j][2] = preferences_lower[i,j]\n",
    "        table[i*n_preferences + j][3] = preferences_upper[i,j]\n",
    "\n",
    "table = pd.DataFrame({'PEOPLE':table[:,0], 'PREFERENCES':table[:,1], 'preference_lower':table[:,2], 'preference_upper':table[:,3], 'weights':weights.flatten()}).set_index(['PEOPLE', 'PREFERENCES'])"
   ]
  },
  {
   "attachments": {},
   "cell_type": "markdown",
   "metadata": {},
   "source": [
    "# Populate database\n",
    "We run this to populate the database with static HMC dorm info. Note that we'll commit this and maintain it as immutable data in the repo--no need to run this again."
   ]
  },
  {
   "cell_type": "code",
   "execution_count": 125,
   "metadata": {},
   "outputs": [],
   "source": [
    "import sqlite3 as sql\n",
    "import csv, os, random"
   ]
  },
  {
   "cell_type": "code",
   "execution_count": 126,
   "metadata": {},
   "outputs": [],
   "source": [
    "# Populate rooms table\n",
    "db_path = 'dorms.db'\n",
    "n_students = 908\n",
    "if os.path.exists(db_path):\n",
    "    os.remove(db_path)\n",
    "db = sql.connect(db_path)\n",
    "db.executescript(open('../res/up.sql', 'r').read())\n",
    "\n",
    "dorms = csv.DictReader(open('../res/dorms.csv','r'),\n",
    "['local_id', 'dorm_id', 'global_id', 'capacity', 'dsa', 'suite'])\n",
    "dorms.__next__()\n",
    "\n",
    "for e in dorms:\n",
    "    local_id = e['local_id']\n",
    "    dorm_id = int(e['dorm_id'])\n",
    "    global_id = int(e['global_id'])\n",
    "    capacity = int(e['capacity'])\n",
    "    if e['dsa'] == 'TRUE':\n",
    "        dsa  = 1\n",
    "    else:\n",
    "        dsa = 0\n",
    "    suite = int(e['suite'])\n",
    "    db.execute(f'INSERT INTO rooms(local_id, dorm_id, global_id, capacity, dsa, suite) VALUES(\\'{local_id}\\', {dorm_id}, {global_id}, {capacity}, {dsa}, {suite})')\n",
    "\n",
    "for i in range(n_students):\n",
    "    id = i + 1\n",
    "    name = f'Student {id}'\n",
    "    year = 4 - int(i / n_students*4)\n",
    "    db.execute(f'INSERT INTO students(id, name, year) VALUES({id}, \\'{name}\\', {year})')\n",
    "db.commit()\n",
    "\n",
    "# make group assignments\n",
    "\n",
    "size_counts = dict(db.execute('SELECT capacity, COUNT(*) FROM rooms WHERE dsa = 0 GROUP BY capacity;').fetchall())\n",
    "student_ids = [i[0] for i in db.execute('SELECT id FROM students;').fetchall()]\n",
    "random.shuffle(student_ids)\n",
    "\n",
    "group = 1\n",
    "id = 0\n",
    "group_rows = []\n",
    "for s,c in size_counts.items():\n",
    "    for _ in range(c):\n",
    "        ids = student_ids[id:id+s]\n",
    "        group_rows += [(group, a) for a in ids]\n",
    "        group +=1\n",
    "        id += s\n",
    "db.executemany('UPDATE students SET group_id = ? WHERE id = ?;', group_rows)\n",
    "db.commit()\n",
    "\n",
    "# populate preferences\n",
    "db.executemany('INSERT INTO preferences(group_id, preference_id, preference_lower, preference_upper, weight) VALUES(?, ?, ?, ?, ?)', table.reset_index().values.tolist())\n",
    "db.commit()\n",
    "db.close()"
   ]
  },
  {
   "cell_type": "markdown",
   "metadata": {},
   "source": [
    "## Simulate Greedy Room Draw\n",
    "Assume that all agents act independently, selecting the first available room of highest choice"
   ]
  },
  {
   "cell_type": "code",
   "execution_count": 127,
   "metadata": {},
   "outputs": [],
   "source": [
    "assignment = np.zeros(n_groups, dtype=np.int32)\n",
    "weight = np.zeros(n_groups, dtype=np.int32)\n",
    "for person in range(n_groups):\n",
    "    assigned = False\n",
    "    for pref in range(n_preferences):\n",
    "        for i in range(preferences_lower[person, pref]-1, preferences_upper[person, pref]):\n",
    "            if not assignment[i]:\n",
    "                assigned = True\n",
    "                assignment[i] = person\n",
    "                weight[i] = n_preferences - pref\n",
    "                break\n",
    "        if assigned:\n",
    "            break\n",
    "    if not assigned:\n",
    "        for i in range(n_rooms):\n",
    "            if not assignment[i]:\n",
    "                assignment[i] = person\n",
    "                break\n",
    "greedy_assignment = pd.DataFrame(assignment, columns=['room number'])\n",
    "greedy_satisfied = pd.DataFrame(weight, columns=['satisfied'])\n",
    "greedy_assignment['groups'] = PEOPLE\n",
    "greedy_satisfied['groups'] = PEOPLE\n",
    "greedy_assignment.set_index('groups', inplace=True)\n",
    "greedy_satisfied.set_index('groups', inplace=True)\n",
    "\n",
    "# transform to get satisfied preference numbers\n",
    "greedy_satisfied['satisfied'] = greedy_satisfied['satisfied'].apply(lambda x: -x + 6 if x else 0)\n",
    "greedy_utility = sum(weight)"
   ]
  },
  {
   "attachments": {},
   "cell_type": "markdown",
   "metadata": {},
   "source": [
    "# AMPL Python API Tests\n",
    "### Pull from database"
   ]
  },
  {
   "cell_type": "code",
   "execution_count": 128,
   "metadata": {},
   "outputs": [],
   "source": [
    "from amplpy import AMPL, Environment\n",
    "import sqlite3 as sql"
   ]
  },
  {
   "cell_type": "code",
   "execution_count": 129,
   "metadata": {},
   "outputs": [],
   "source": [
    "\n",
    "db = sql.connect(db_path)\n",
    "n_groups = n_rooms = db.execute('SELECT COUNT(global_id) FROM rooms;').fetchone()[0]\n",
    "n_preferences = db.execute('SELECT COUNT(DISTINCT preference_id) FROM preferences;').fetchone()[0]\n",
    "table = pd.DataFrame(data=db.execute('SELECT * FROM preferences;').fetchall(), columns=['PREFERENCES', 'PEOPLE', 'preference_lower', 'preference_upper', 'weights']).set_index(['PEOPLE', 'PREFERENCES'])\n",
    "db.close()"
   ]
  },
  {
   "attachments": {},
   "cell_type": "markdown",
   "metadata": {},
   "source": [
    "### Load model and run optimization"
   ]
  },
  {
   "cell_type": "code",
   "execution_count": 130,
   "metadata": {},
   "outputs": [],
   "source": [
    "# init ampl\n",
    "ampl_dir = '/usr/bin'\n",
    "ampl = AMPL(Environment(ampl_dir))\n",
    "model = 'range_preferences.mod'"
   ]
  },
  {
   "cell_type": "code",
   "execution_count": 131,
   "metadata": {},
   "outputs": [],
   "source": [
    "# read in model\n",
    "ampl.eval('option solver gurobi;')\n",
    "ampl.eval('''option gurobi_options 'outlev 1';''')\n",
    "ampl.read(filename=model)"
   ]
  },
  {
   "cell_type": "code",
   "execution_count": 132,
   "metadata": {},
   "outputs": [],
   "source": [
    "# set data\n",
    "ampl.get_parameter(\"n_people\").set(n_groups)\n",
    "ampl.get_parameter(\"n_rooms\").set(n_rooms)\n",
    "ampl.get_parameter(\"n_preferences\").set(n_preferences)\n",
    "ampl.set_data(data=table, set_name='LINKS')"
   ]
  },
  {
   "cell_type": "code",
   "execution_count": 133,
   "metadata": {},
   "outputs": [
    {
     "name": "stdout",
     "output_type": "stream",
     "text": [
      "Gurobi 9.5.1: outlev 1\n",
      "Set parameter OutputFlag to value 1\n",
      "Set parameter InfUnbdInfo to value 1\n",
      "Gurobi Optimizer version 9.5.1 build v9.5.1rc2 (linux64)\n",
      "Thread count: 4 physical cores, 8 logical processors, using up to 8 threads\n",
      "Optimize a model with 4109 rows, 348091 columns and 697058 nonzeros\n",
      "Model fingerprint: 0xe2c75f69\n",
      "Variable types: 0 continuous, 348091 integer (347504 binary)\n",
      "Coefficient statistics:\n",
      "  Matrix range     [1e+00, 6e+02]\n",
      "  Objective range  [4e-03, 8e+01]\n",
      "  Bounds range     [1e+00, 6e+02]\n",
      "  RHS range        [1e+00, 1e+00]\n",
      "Presolve removed 1911 rows and 2935 columns\n",
      "Presolve time: 3.88s\n",
      "Presolved: 2198 rows, 345156 columns, 695915 nonzeros\n",
      "Variable types: 0 continuous, 345156 integer (344569 binary)\n",
      "\n",
      "Root simplex log...\n",
      "\n",
      "Iteration    Objective       Primal Inf.    Dual Inf.      Time\n",
      "       0    5.2831740e+04   5.713384e+04   0.000000e+00      7s\n",
      "    2140    1.9967143e+04   0.000000e+00   0.000000e+00      8s\n",
      "\n",
      "Root relaxation: objective 1.996714e+04, 2140 iterations, 0.73 seconds (0.18 work units)\n",
      "\n",
      "    Nodes    |    Current Node    |     Objective Bounds      |     Work\n",
      " Expl Unexpl |  Obj  Depth IntInf | Incumbent    BestBd   Gap | It/Node Time\n",
      "\n",
      "     0     0 19967.1426    0  321          - 19967.1426      -     -    9s\n",
      "     0     0 19819.8918    0  280          - 19819.8918      -     -   16s\n",
      "     0     0 19780.7461    0  271          - 19780.7461      -     -   18s\n",
      "     0     0 19767.1857    0  204          - 19767.1857      -     -   19s\n",
      "     0     0 19760.1181    0  468          - 19760.1181      -     -   21s\n",
      "     0     0 19749.6131    0  529          - 19749.6131      -     -   22s\n",
      "     0     0 19743.0265    0  546          - 19743.0265      -     -   22s\n",
      "     0     0 19625.2752    0  502          - 19625.2752      -     -   23s\n",
      "     0     0 19433.9871    0  444          - 19433.9871      -     -   24s\n",
      "     0     0 19401.4351    0  400          - 19401.4351      -     -   25s\n",
      "     0     0 19384.1063    0  431          - 19384.1063      -     -   29s\n",
      "     0     0 19370.7727    0  490          - 19370.7727      -     -   30s\n",
      "     0     0 19260.9091    0  414          - 19260.9091      -     -   31s\n",
      "     0     0 19200.1859    0  376          - 19200.1859      -     -   32s\n",
      "     0     0 19199.6587    0  365          - 19199.6587      -     -   32s\n",
      "     0     0 19189.0035    0  411          - 19189.0035      -     -   34s\n",
      "     0     0 19146.7408    0  352          - 19146.7408      -     -   37s\n",
      "     0     0 19118.8420    0  363          - 19118.8420      -     -   38s\n",
      "     0     0 19100.5150    0  393          - 19100.5150      -     -   39s\n",
      "     0     0 19058.2711    0  366          - 19058.2711      -     -   42s\n",
      "     0     0 19057.9895    0  384          - 19057.9895      -     -   43s\n",
      "     0     0 19047.2862    0  313          - 19047.2862      -     -   45s\n",
      "     0     0 19025.7257    0  279          - 19025.7257      -     -   48s\n",
      "     0     0 19025.7188    0  308          - 19025.7188      -     -   48s\n",
      "     0     0 19007.9019    0  340          - 19007.9019      -     -   51s\n",
      "     0     0 18995.8714    0  341          - 18995.8714      -     -   53s\n",
      "     0     0 18994.2494    0  322          - 18994.2494      -     -   54s\n",
      "     0     0 18976.7078    0  312          - 18976.7078      -     -   56s\n",
      "     0     0 18973.6998    0  322          - 18973.6998      -     -   59s\n",
      "     0     0 18965.8252    0  260          - 18965.8252      -     -   61s\n",
      "     0     0 18963.2225    0  242          - 18963.2225      -     -   63s\n",
      "     0     0 18962.9308    0  250          - 18962.9308      -     -   64s\n",
      "     0     0 18951.5112    0  176          - 18951.5112      -     -   67s\n",
      "     0     0 18950.8557    0  195          - 18950.8557      -     -   69s\n",
      "     0     0 18944.3465    0  214          - 18944.3465      -     -   71s\n",
      "     0     0 18944.3465    0  193          - 18944.3465      -     -   80s\n",
      "H    0     0                    18906.449989 18944.3465  0.20%     -   86s\n",
      "     0     0 18939.3821    0  314 18906.4500 18939.3821  0.17%     -   94s\n",
      "     0     0 18939.3821    0  250 18906.4500 18939.3821  0.17%     -   99s\n",
      "     0     0 18939.3821    0  200 18906.4500 18939.3821  0.17%     -  107s\n",
      "     0     0 18939.3821    0  431 18906.4500 18939.3821  0.17%     -  108s\n",
      "     0     0 18939.3821    0  437 18906.4500 18939.3821  0.17%     -  109s\n",
      "     0     0 18939.3821    0  385 18906.4500 18939.3821  0.17%     -  109s\n",
      "     0     0 18939.3821    0  356 18906.4500 18939.3821  0.17%     -  110s\n",
      "     0     0 18939.3821    0  336 18906.4500 18939.3821  0.17%     -  110s\n",
      "     0     0 18939.3821    0  360 18906.4500 18939.3821  0.17%     -  111s\n",
      "     0     0 18939.3821    0  336 18906.4500 18939.3821  0.17%     -  111s\n",
      "     0     0 18939.3821    0  331 18906.4500 18939.3821  0.17%     -  112s\n",
      "     0     0 18939.3821    0  355 18906.4500 18939.3821  0.17%     -  113s\n",
      "     0     0 18939.3821    0  344 18906.4500 18939.3821  0.17%     -  114s\n",
      "     0     0 18939.3821    0  297 18906.4500 18939.3821  0.17%     -  115s\n",
      "     0     0 18939.3821    0  257 18906.4500 18939.3821  0.17%     -  115s\n",
      "     0     0 18939.3821    0  237 18906.4500 18939.3821  0.17%     -  116s\n",
      "     0     0 18939.3821    0  205 18906.4500 18939.3821  0.17%     -  117s\n",
      "     0     0 18938.8261    0  184 18906.4500 18938.8261  0.17%     -  118s\n",
      "     0     0 18932.5706    0  114 18906.4500 18932.5706  0.14%     -  121s\n",
      "     0     0 18932.5706    0  298 18906.4500 18932.5706  0.14%     -  123s\n",
      "     0     0 18932.5706    0  282 18906.4500 18932.5706  0.14%     -  125s\n",
      "     0     0 18932.5706    0  407 18906.4500 18932.5706  0.14%     -  128s\n",
      "     0     0 18932.5706    0  417 18906.4500 18932.5706  0.14%     -  128s\n",
      "     0     0 18932.5706    0  339 18906.4500 18932.5706  0.14%     -  128s\n",
      "     0     0 18932.5706    0  349 18906.4500 18932.5706  0.14%     -  129s\n",
      "     0     0 18932.5706    0  309 18906.4500 18932.5706  0.14%     -  129s\n",
      "     0     0 18932.5706    0  356 18906.4500 18932.5706  0.14%     -  129s\n",
      "     0     0 18932.5706    0  320 18906.4500 18932.5706  0.14%     -  129s\n",
      "     0     0 18932.5706    0  323 18906.4500 18932.5706  0.14%     -  130s\n",
      "     0     0 18932.5706    0  285 18906.4500 18932.5706  0.14%     -  130s\n",
      "     0     0 18932.5706    0  218 18906.4500 18932.5706  0.14%     -  130s\n",
      "     0     0 18932.5706    0  161 18906.4500 18932.5706  0.14%     -  131s\n",
      "     0     0 18932.5706    0  155 18906.4500 18932.5706  0.14%     -  131s\n",
      "     0     0 18932.3710    0  123 18906.4500 18932.3710  0.14%     -  132s\n",
      "     0     0 18927.3308    0  158 18906.4500 18927.3308  0.11%     -  133s\n",
      "     0     0 18926.8145    0  156 18906.4500 18926.8145  0.11%     -  133s\n",
      "     0     0 18924.3362    0  102 18906.4500 18924.3362  0.09%     -  134s\n",
      "     0     0 18924.3362    0  230 18906.4500 18924.3362  0.09%     -  135s\n",
      "     0     0 18924.3362    0  400 18906.4500 18924.3362  0.09%     -  136s\n",
      "     0     0 18924.3362    0  366 18906.4500 18924.3362  0.09%     -  138s\n",
      "     0     0 18924.3362    0  382 18906.4500 18924.3362  0.09%     -  138s\n",
      "     0     0 18924.3362    0  375 18906.4500 18924.3362  0.09%     -  138s\n",
      "     0     0 18924.3362    0  279 18906.4500 18924.3362  0.09%     -  138s\n",
      "     0     0 18924.3362    0  316 18906.4500 18924.3362  0.09%     -  138s\n",
      "     0     0 18924.3362    0  276 18906.4500 18924.3362  0.09%     -  138s\n",
      "     0     0 18924.3362    0  148 18906.4500 18924.3362  0.09%     -  138s\n",
      "     0     0 18924.3362    0  171 18906.4500 18924.3362  0.09%     -  138s\n",
      "     0     0 18924.3362    0  172 18906.4500 18924.3362  0.09%     -  138s\n",
      "     0     0 18919.4633    0  187 18906.4500 18919.4633  0.07%     -  139s\n",
      "     0     0 18913.9669    0  102 18906.4500 18913.9669  0.04%     -  139s\n",
      "     0     0 18913.9669    0  154 18906.4500 18913.9669  0.04%     -  140s\n",
      "     0     0 18913.9669    0  286 18906.4500 18913.9669  0.04%     -  140s\n",
      "     0     0 18913.9669    0  275 18906.4500 18913.9669  0.04%     -  140s\n",
      "     0     0 18913.9669    0  230 18906.4500 18913.9669  0.04%     -  140s\n",
      "     0     0 18913.9669    0  155 18906.4500 18913.9669  0.04%     -  140s\n",
      "     0     0     cutoff    0      18906.4500 18906.4500  0.00%     -  140s\n",
      "\n",
      "Cutting planes:\n",
      "  Gomory: 8\n",
      "  Cover: 276\n",
      "  Implied bound: 22\n",
      "  Clique: 2\n",
      "  MIR: 26\n",
      "  StrongCG: 1\n",
      "  Zero half: 2\n",
      "  RLT: 2\n",
      "  Relax-and-lift: 4\n",
      "\n",
      "Explored 1 nodes (26674 simplex iterations) in 140.34 seconds (34.42 work units)\n",
      "Thread count was 8 (of 8 available processors)\n",
      "\n",
      "Solution count 2: 18906.4 18906.4 \n",
      "\n",
      "Optimal solution found (tolerance 1.00e-04)\n",
      "Best objective 1.890644998913e+04, best bound 1.890644998913e+04, gap 0.0000%\n",
      "Set parameter Presolve to value 0\n",
      "Set parameter Method to value 1\n",
      "Gurobi Optimizer version 9.5.1 build v9.5.1rc2 (linux64)\n",
      "Thread count: 4 physical cores, 8 logical processors, using up to 8 threads\n",
      "Optimize a model with 4109 rows, 348091 columns and 697058 nonzeros\n",
      "Model fingerprint: 0xea4bd1b9\n",
      "Coefficient statistics:\n",
      "  Matrix range     [1e+00, 6e+02]\n",
      "  Objective range  [4e-03, 8e+01]\n",
      "  Bounds range     [1e+00, 6e+02]\n",
      "  RHS range        [1e+00, 1e+00]\n",
      "Iteration    Objective       Primal Inf.    Dual Inf.      Time\n",
      "       0    1.8906450e+04   0.000000e+00   0.000000e+00      0s\n",
      "\n",
      "Solved in 0 iterations and 0.14 seconds (0.01 work units)\n",
      "Optimal objective  1.890644999e+04\n",
      "Gurobi 9.5.1: optimal solution; objective 18906.44999\n",
      "26674 simplex iterations\n",
      "1 branch-and-cut nodes\n"
     ]
    }
   ],
   "source": [
    "ampl.solve()"
   ]
  },
  {
   "cell_type": "code",
   "execution_count": 134,
   "metadata": {},
   "outputs": [],
   "source": [
    "optim_assignments = ampl.get_variable('room_number').get_values().to_pandas()\n",
    "# clean up the dataframe\n",
    "optim_assignments = optim_assignments.rename(columns={'room_number.val': 'room number'}).set_axis(np.arange(1, n_rooms + 1, 1, dtype=int)).rename_axis('Groups').astype(int)\n",
    "optim_utility = int(ampl.get_objective('Objective').value())\n"
   ]
  },
  {
   "cell_type": "code",
   "execution_count": 135,
   "metadata": {},
   "outputs": [],
   "source": [
    "# process output\n",
    "optim_satisfied = ampl.get_variable('satisfied').get_values().to_pandas()\n",
    "optim_satisfied['group'] = [int(a[0]) for a in optim_satisfied.index]\n",
    "optim_satisfied['preference'] = [int(a[1]) for a in optim_satisfied.index]\n",
    "optim_satisfied.set_index(['group', 'preference'],inplace=True)\n",
    "optim_satisfied.rename(columns={'satisfied.val':'satisfied'}, inplace=True)\n",
    "optim_satisfied = optim_satisfied.astype(bool)\n",
    "\n",
    "def arg(x):\n",
    "    for j in x.index:\n",
    "        if x.loc[j]['satisfied']:\n",
    "            return j[1]\n",
    "    return 0\n",
    "\n",
    "\n",
    "        \n",
    "optim_satisfied = optim_satisfied.groupby('group').apply(arg).to_frame(name='satisfied')"
   ]
  },
  {
   "cell_type": "code",
   "execution_count": null,
   "metadata": {},
   "outputs": [],
   "source": [
    "# write assignments\n"
   ]
  },
  {
   "cell_type": "markdown",
   "metadata": {},
   "source": [
    "# Comparison of Greedy and Optimized Assignments"
   ]
  },
  {
   "cell_type": "code",
   "execution_count": 136,
   "metadata": {},
   "outputs": [],
   "source": [
    "import matplotlib.pyplot as plt"
   ]
  },
  {
   "cell_type": "code",
   "execution_count": 217,
   "metadata": {},
   "outputs": [
    {
     "data": {
      "image/png": "[encoded data removed]",
      "text/plain": [
       "<Figure size 640x480 with 1 Axes>"
      ]
     },
     "metadata": {},
     "output_type": "display_data"
    },
    {
     "name": "stdout",
     "output_type": "stream",
     "text": [
      "##### METRICS ######\n",
      "Total utility greedy: 2249\n",
      "Total utility optimized: 18906\n",
      "\n",
      "Percentage improvement in optimized model: 740.64%\n",
      "Percentage improvement any preference satisfaction: 13.50%\n",
      "\n",
      "Percentage improvement pref 1 satisfaction: 8.46%\n",
      "Percentage improvement pref 2 satisfaction: 38.61%\n",
      "Percentage improvement pref 3 satisfaction: -7.14%*\n",
      "\n",
      "\n",
      "*Note: preference rank satisfactions are codependent. This means that a negative improvement for one preference doesn't imply an overall worse preference satisfaction performance\n"
     ]
    }
   ],
   "source": [
    "labels = [str(a) for a in range(1, n_preferences + 1)] + ['Not\\nsatisfied']\n",
    "index = np.arange(n_preferences + 1) \n",
    "x = np.arange(0, n_preferences + 1)\n",
    "optim_y = [optim_satisfied.satisfied.value_counts().values[i] for i in range(n_preferences + 1)]\n",
    "greedy_y = [greedy_satisfied.satisfied.value_counts().values[i] for i in range(n_preferences + 1)]\n",
    "width = 0.3\n",
    "\n",
    "plt.bar(x, optim_y, width, label='Optimized')\n",
    "plt.bar(x + width, greedy_y, width, label='Greedy')\n",
    "plt.title('Preference Satisfaction Distribution')\n",
    "plt.ylabel('Counts')\n",
    "plt.xticks(x + width / 2, labels)\n",
    "plt.legend()\n",
    "plt.show()\n",
    "\n",
    "print(f'''##### METRICS ######\n",
    "Total utility greedy: {greedy_utility}\n",
    "Total utility optimized: {optim_utility}\n",
    "\n",
    "Percentage improvement in optimized model: {100*(optim_utility/greedy_utility - 1):.2f}%\n",
    "Percentage improvement any preference satisfaction: {100*(sum((optim_satisfied > 0).satisfied)/sum((greedy_satisfied > 0).satisfied) - 1):.2f}%\n",
    "\n",
    "Percentage improvement pref 1 satisfaction: {100*(sum((optim_satisfied == 1).satisfied)/sum((greedy_satisfied == 1).satisfied) - 1):.2f}%\n",
    "Percentage improvement pref 2 satisfaction: {100*(sum((optim_satisfied == 2).satisfied)/sum((greedy_satisfied == 2).satisfied) - 1):.2f}%\n",
    "Percentage improvement pref 3 satisfaction: {100*(sum((optim_satisfied == 3).satisfied)/sum((greedy_satisfied == 3).satisfied) - 1):.2f}%*\n",
    "\n",
    "\n",
    "*Note: preference rank satisfactions are codependent. This means that a negative improvement for one preference doesn't imply an overall worse preference satisfaction performance''')"
   ]
  },
  {
   "cell_type": "code",
   "execution_count": 215,
   "metadata": {},
   "outputs": [
    {
     "data": {
      "text/plain": [
       "1    359\n",
       "2    140\n",
       "3     39\n",
       "4     33\n",
       "5      9\n",
       "0      7\n",
       "Name: satisfied, dtype: int64"
      ]
     },
     "execution_count": 215,
     "metadata": {},
     "output_type": "execute_result"
    }
   ],
   "source": []
  }
 ],
 "metadata": {
  "kernelspec": {
   "display_name": "Python 3.10.8 ('.venv': venv)",
   "language": "python",
   "name": "python3"
  },
  "language_info": {
   "codemirror_mode": {
    "name": "ipython",
    "version": 3
   },
   "file_extension": ".py",
   "mimetype": "text/x-python",
   "name": "python",
   "nbconvert_exporter": "python",
   "pygments_lexer": "ipython3",
   "version": "3.10.8"
  },
  "orig_nbformat": 4,
  "vscode": {
   "interpreter": {
    "hash": "9a4c94e6dad00596fd8adbe2b5a137357a6eca41499c9130ef8ae5bee8cd4d34"
   }
  }
 },
 "nbformat": 4,
 "nbformat_minor": 2
}
